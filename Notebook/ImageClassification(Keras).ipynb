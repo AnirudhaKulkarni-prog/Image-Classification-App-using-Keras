{
  "nbformat": 4,
  "nbformat_minor": 0,
  "metadata": {
    "colab": {
      "name": "ImageClassification(Keras).ipynb",
      "provenance": [],
      "private_outputs": true,
      "authorship_tag": "ABX9TyNk5V72bspH+JpjZdDgC/NK",
      "include_colab_link": true
    },
    "kernelspec": {
      "name": "python3",
      "display_name": "Python 3"
    },
    "accelerator": "GPU"
  },
  "cells": [
    {
      "cell_type": "markdown",
      "metadata": {
        "id": "view-in-github",
        "colab_type": "text"
      },
      "source": [
        "<a href=\"https://colab.research.google.com/github/sherwyn11/Image-Classification-using-Keras/blob/master/ImageClassification(Keras).ipynb\" target=\"_parent\"><img src=\"https://colab.research.google.com/assets/colab-badge.svg\" alt=\"Open In Colab\"/></a>"
      ]
    },
    {
      "cell_type": "markdown",
      "metadata": {
        "id": "XKKYNWcMSxHV",
        "colab_type": "text"
      },
      "source": [
        "# Image Classifier using Keras ( Bird or Dog)"
      ]
    },
    {
      "cell_type": "markdown",
      "metadata": {
        "id": "5VzRC5c4NM2L",
        "colab_type": "text"
      },
      "source": [
        "# Gather Data"
      ]
    },
    {
      "cell_type": "code",
      "metadata": {
        "id": "BdvS61p-nqjU",
        "colab_type": "code",
        "colab": {}
      },
      "source": [
        "!mkdir data"
      ],
      "execution_count": 0,
      "outputs": []
    },
    {
      "cell_type": "code",
      "metadata": {
        "id": "4NopOhwIn_6K",
        "colab_type": "code",
        "colab": {}
      },
      "source": [
        "!pip install icrawler"
      ],
      "execution_count": 0,
      "outputs": []
    },
    {
      "cell_type": "code",
      "metadata": {
        "id": "GE2N6LIYoGTT",
        "colab_type": "code",
        "colab": {}
      },
      "source": [
        "from icrawler.builtin import BingImageCrawler"
      ],
      "execution_count": 0,
      "outputs": []
    },
    {
      "cell_type": "code",
      "metadata": {
        "id": "RmO23glrp8VN",
        "colab_type": "code",
        "colab": {}
      },
      "source": [
        "bing_crawler = BingImageCrawler(downloader_threads=4, storage={'root_dir': 'data/dog'}) \n",
        "bing_crawler.crawl(keyword='dog', filters=None, offset=0, max_num=500)"
      ],
      "execution_count": 0,
      "outputs": []
    },
    {
      "cell_type": "code",
      "metadata": {
        "id": "qdytHx0BqAhP",
        "colab_type": "code",
        "colab": {}
      },
      "source": [
        "bing_crawler = BingImageCrawler(downloader_threads=4, storage={'root_dir': 'data/bird'}) \n",
        "bing_crawler.crawl(keyword='bird', filters=None, offset=0, max_num=500)"
      ],
      "execution_count": 0,
      "outputs": []
    },
    {
      "cell_type": "markdown",
      "metadata": {
        "id": "0BiHbAV5pwfE",
        "colab_type": "text"
      },
      "source": [
        "# CUSTOM MODEL"
      ]
    },
    {
      "cell_type": "code",
      "metadata": {
        "id": "IgF3toboQ2_Y",
        "colab_type": "code",
        "colab": {}
      },
      "source": [
        "import cv2\n",
        "import numpy as np\n",
        "import os"
      ],
      "execution_count": 0,
      "outputs": []
    },
    {
      "cell_type": "code",
      "metadata": {
        "id": "yOX_l-CEMzoG",
        "colab_type": "code",
        "colab": {}
      },
      "source": [
        "train_x = []\n",
        "train_y = []\n",
        "\n",
        "for file in os.listdir('/content/data/bird'):\n",
        "  img = cv2.imread('/content/data/bird/' + file)\n",
        "  img = cv2.resize(img,(256, 256))\n",
        "  img = img / 255\n",
        "  train_x.append(img)\n",
        "  train_y.append(0)"
      ],
      "execution_count": 0,
      "outputs": []
    },
    {
      "cell_type": "code",
      "metadata": {
        "id": "yYe3CBSXQfd0",
        "colab_type": "code",
        "colab": {}
      },
      "source": [
        "for file in os.listdir('/content/data/dog'):\n",
        "  img = cv2.imread('/content/data/dog/' + file)\n",
        "  img = cv2.resize(img,(256, 256))\n",
        "  img = img / 255\n",
        "  train_x.append(img)\n",
        "  train_y.append(1)"
      ],
      "execution_count": 0,
      "outputs": []
    },
    {
      "cell_type": "code",
      "metadata": {
        "id": "FsWz2B1eRYpX",
        "colab_type": "code",
        "colab": {}
      },
      "source": [
        "len(train_x)"
      ],
      "execution_count": 0,
      "outputs": []
    },
    {
      "cell_type": "code",
      "metadata": {
        "id": "hGTtJmcUSAgT",
        "colab_type": "code",
        "colab": {}
      },
      "source": [
        "import random"
      ],
      "execution_count": 0,
      "outputs": []
    },
    {
      "cell_type": "code",
      "metadata": {
        "id": "q-2CP8OSRaHf",
        "colab_type": "code",
        "colab": {}
      },
      "source": [
        "for i in range(len(train_x)-1, 0, -1): \n",
        "      \n",
        "    j = random.randint(0, i + 1)  \n",
        "    \n",
        "    train_x[i], train_x[j] = train_x[j], train_x[i]\n",
        "    train_y[i], train_y[j] = train_y[j], train_y[i]"
      ],
      "execution_count": 0,
      "outputs": []
    },
    {
      "cell_type": "code",
      "metadata": {
        "id": "ghZi13OuSM2B",
        "colab_type": "code",
        "colab": {}
      },
      "source": [
        "from keras.models import Sequential\n",
        "from keras.layers import Dense, Activation, Conv2D, MaxPooling2D, BatchNormalization, Flatten, Dense, Dropout"
      ],
      "execution_count": 0,
      "outputs": []
    },
    {
      "cell_type": "code",
      "metadata": {
        "id": "ldlp9bAmRuCy",
        "colab_type": "code",
        "colab": {}
      },
      "source": [
        "model = Sequential()\n",
        "\n",
        "model.add(Conv2D(32, kernel_size = (3, 3), activation='relu', input_shape=(256, 256, 3)))\n",
        "model.add(MaxPooling2D(pool_size=(2,2)))\n",
        "\n",
        "model.add(Conv2D(64, kernel_size=(3,3), activation='relu'))\n",
        "model.add(MaxPooling2D(pool_size=(2,2)))\n",
        "\n",
        "model.add(Conv2D(128, kernel_size=(3,3), activation='relu'))\n",
        "model.add(MaxPooling2D(pool_size=(2,2)))\n",
        "\n",
        "model.add(Conv2D(128, kernel_size=(3,3), activation='relu'))\n",
        "model.add(MaxPooling2D(pool_size=(2,2)))\n",
        "\n",
        "model.add(Conv2D(64, kernel_size=(3,3), activation='relu'))\n",
        "model.add(MaxPooling2D(pool_size=(2,2)))\n",
        "model.add(Dropout(0.2))\n",
        "\n",
        "model.add(Conv2D(32, kernel_size=(3,3), activation='relu'))\n",
        "model.add(MaxPooling2D(pool_size=(2,2)))\n",
        "model.add(Dropout(0.2))\n",
        "\n",
        "model.add(Flatten())\n",
        "model.add(Dense(2, activation = 'softmax'))"
      ],
      "execution_count": 0,
      "outputs": []
    },
    {
      "cell_type": "code",
      "metadata": {
        "id": "LFueXVlGSkVR",
        "colab_type": "code",
        "colab": {}
      },
      "source": [
        "model.compile(optimizer='adam', loss='categorical_crossentropy', metrics=['accuracy'])"
      ],
      "execution_count": 0,
      "outputs": []
    },
    {
      "cell_type": "code",
      "metadata": {
        "id": "KDjRrw_5S_xs",
        "colab_type": "code",
        "colab": {}
      },
      "source": [
        "model.summary()"
      ],
      "execution_count": 0,
      "outputs": []
    },
    {
      "cell_type": "code",
      "metadata": {
        "id": "BmXK6beslC0e",
        "colab_type": "code",
        "colab": {}
      },
      "source": [
        "from keras.utils import to_categorical"
      ],
      "execution_count": 0,
      "outputs": []
    },
    {
      "cell_type": "code",
      "metadata": {
        "id": "VGtKt1yikpjD",
        "colab_type": "code",
        "colab": {}
      },
      "source": [
        "X = [train_x]\n",
        "y = [to_categorical(train_y)]"
      ],
      "execution_count": 0,
      "outputs": []
    },
    {
      "cell_type": "code",
      "metadata": {
        "id": "aGW3MAAWlKzN",
        "colab_type": "code",
        "colab": {}
      },
      "source": [
        "y"
      ],
      "execution_count": 0,
      "outputs": []
    },
    {
      "cell_type": "code",
      "metadata": {
        "id": "JprZMkKbTBm9",
        "colab_type": "code",
        "colab": {}
      },
      "source": [
        "model.fit(X, y, epochs=15, batch_size=8)"
      ],
      "execution_count": 0,
      "outputs": []
    },
    {
      "cell_type": "code",
      "metadata": {
        "id": "djrVI8mJli2B",
        "colab_type": "code",
        "colab": {}
      },
      "source": [
        "!mkdir test"
      ],
      "execution_count": 0,
      "outputs": []
    },
    {
      "cell_type": "code",
      "metadata": {
        "id": "DGRf-aQHltwa",
        "colab_type": "code",
        "colab": {}
      },
      "source": [
        "bing_crawler = BingImageCrawler(downloader_threads=4, storage={'root_dir': 'test/bird'}) \n",
        "bing_crawler.crawl(keyword='crow', filters=None, offset=0, max_num=10)"
      ],
      "execution_count": 0,
      "outputs": []
    },
    {
      "cell_type": "code",
      "metadata": {
        "id": "7egENhrJl5_g",
        "colab_type": "code",
        "colab": {}
      },
      "source": [
        "bing_crawler = BingImageCrawler(downloader_threads=4, storage={'root_dir': 'test/dog'}) \n",
        "bing_crawler.crawl(keyword='dog', filters=None, offset=0, max_num=10)"
      ],
      "execution_count": 0,
      "outputs": []
    },
    {
      "cell_type": "markdown",
      "metadata": {
        "id": "FL5qdko-MuUr",
        "colab_type": "text"
      },
      "source": [
        "#TEST\n",
        "\n",
        "0 = bird 1 = dog"
      ]
    },
    {
      "cell_type": "code",
      "metadata": {
        "id": "gc_YUQRAMcMs",
        "colab_type": "code",
        "colab": {}
      },
      "source": [
        "import matplotlib.pyplot as plt"
      ],
      "execution_count": 0,
      "outputs": []
    },
    {
      "cell_type": "code",
      "metadata": {
        "id": "8Ecr49r5l-gF",
        "colab_type": "code",
        "colab": {}
      },
      "source": [
        "x = '/content/test/bird/000009.jpg'\n",
        "\n",
        "img = cv2.imread(x)\n",
        "img = cv2.resize(img,(256, 256))\n",
        "img = img / 255"
      ],
      "execution_count": 0,
      "outputs": []
    },
    {
      "cell_type": "code",
      "metadata": {
        "id": "wDSAUNxOpgTL",
        "colab_type": "code",
        "colab": {}
      },
      "source": [
        "plt.imshow(cv2.imread(x))"
      ],
      "execution_count": 0,
      "outputs": []
    },
    {
      "cell_type": "code",
      "metadata": {
        "id": "nP7-y0rvmZhN",
        "colab_type": "code",
        "colab": {}
      },
      "source": [
        "if(np.argmax(model.predict([[img]])) == 0):\n",
        "  print('Bird')\n",
        "else:\n",
        "  print('Dog')"
      ],
      "execution_count": 0,
      "outputs": []
    },
    {
      "cell_type": "code",
      "metadata": {
        "id": "0pU7LZqQSfDh",
        "colab_type": "code",
        "colab": {}
      },
      "source": [
        "x = '/content/test/dog/000002.jpg'\n",
        "\n",
        "img = cv2.imread(x)\n",
        "img = cv2.resize(img,(256, 256))\n",
        "img = img / 255"
      ],
      "execution_count": 0,
      "outputs": []
    },
    {
      "cell_type": "code",
      "metadata": {
        "id": "OigS8G_6So2a",
        "colab_type": "code",
        "colab": {}
      },
      "source": [
        "plt.imshow(cv2.imread(x))"
      ],
      "execution_count": 0,
      "outputs": []
    },
    {
      "cell_type": "code",
      "metadata": {
        "id": "qYyerPjSSprf",
        "colab_type": "code",
        "colab": {}
      },
      "source": [
        "if(np.argmax(model.predict([[img]])) == 0):\n",
        "  print('Bird')\n",
        "else:\n",
        "  print('Dog')"
      ],
      "execution_count": 0,
      "outputs": []
    },
    {
      "cell_type": "markdown",
      "metadata": {
        "id": "qGTvbMhUTfSD",
        "colab_type": "text"
      },
      "source": [
        "# Saving the model for future use"
      ]
    },
    {
      "cell_type": "code",
      "metadata": {
        "id": "VjbfrIpZSsT0",
        "colab_type": "code",
        "colab": {}
      },
      "source": [
        "model.save_weights(\"model.h5\")"
      ],
      "execution_count": 0,
      "outputs": []
    }
  ]
}